{
 "cells": [
  {
   "cell_type": "code",
   "execution_count": 1,
   "metadata": {},
   "outputs": [],
   "source": [
    "from bs4 import BeautifulSoup\n",
    "import pandas as pd\n",
    "import requests "
   ]
  },
  {
   "cell_type": "code",
   "execution_count": 2,
   "metadata": {},
   "outputs": [],
   "source": [
    "# pip install DateTime"
   ]
  },
  {
   "cell_type": "code",
   "execution_count": 3,
   "metadata": {},
   "outputs": [
    {
     "name": "stdout",
     "output_type": "stream",
     "text": [
      "Today's Date: 2020-05-03 20:03:13.884386 and Time: 20:03\n"
     ]
    }
   ],
   "source": [
    "from datetime import datetime\n",
    "now = datetime.now()\n",
    "current_time = now.strftime(\"%H:%M\")\n",
    "today = datetime.today()\n",
    "\n",
    "print(\"Today's Date:\", today, \"and Time:\",current_time)"
   ]
  },
  {
   "cell_type": "code",
   "execution_count": 4,
   "metadata": {},
   "outputs": [],
   "source": [
    "# pip install lxml"
   ]
  },
  {
   "cell_type": "code",
   "execution_count": 5,
   "metadata": {},
   "outputs": [],
   "source": [
    "#Creating a function for web scraping the headlines from Inshorts website\n",
    "\n",
    "r=[]\n",
    "def func(response_text):\n",
    "    soup = BeautifulSoup(response_text, 'lxml')\n",
    "    headlines = soup.find_all(attrs={\"itemprop\": \"headline\"})\n",
    "    for headline in headlines:\n",
    "        r.append(headline.text)\n",
    "#         s = input('Please enter a word:\\n')\n",
    "#         if s in result:\n",
    "#             print('exist')\n",
    "        print(headline.text)"
   ]
  },
  {
   "cell_type": "code",
   "execution_count": 6,
   "metadata": {},
   "outputs": [
    {
     "name": "stdout",
     "output_type": "stream",
     "text": [
      "Headlines for Today: 2020-05-03 20:03:13.884386 Clocking: 20:03 \n",
      "\n",
      "101 coronavirus patients discharged in Gautam Buddha Nagar, active cases now 66\n",
      "India reports 2,487 coronavirus cases in last 24 hours, total crosses 40,000\n",
      "What are 'Shramik Special Trains' and who can travel in them amid lockdown?\n",
      "Maids, plumbers, technicians to be allowed to work in Delhi from tomorrow\n",
      "Police called to catch 'tiger' on the loose, turns out to be 20-yr-old sculpture\n",
      "Ishaan Khatter's 53-yr-old father shares 1st pics of baby boy born last year\n",
      "Maharashtra allows liquor stores to open in COVID-19 red zones\n",
      "We may not make money this year but won't fire anyone: US software firm's CEO\n",
      "What will happen to PM CARES if govt taking money to send poor home: Akhilesh\n",
      "Bus ferrying migrant workers meets with accident in Odisha, 2 dead\n",
      "On humanitarian grounds: K'taka CM urges Maharashtra to release water\n",
      "HRD Ministry to announce JEE, NEET exam dates on May 5\n",
      "Aviation fuel price cut by 23%, now costs less than one-third of petrol price\n",
      "Miss you every day: Sanjay on mom Nargis' death anniversary\n",
      "We're suffering due to our actions: Dharmendra on COVID-19\n",
      "Ex-US Prez Bush urges Americans to be empathetic during pandemic\n",
      "PCB to support 1st-class cricketers, match officials amid COVID-19 lockdown\n",
      "Spain allows citizens to leave home for first time in 7 weeks\n",
      "647 foreign workers test COVID-19 +ve in Singapore, cases cross 18,000\n",
      "Relax some restrictions on essential services amid lockdown: Urban Company\n",
      "S Korea to further relax COVID-19 social distancing rules from May 6\n",
      "People know only about cricket: Rijiju on viral 100m run videos\n",
      "Afghanistan probes whether Iranian guards forced migrants into river\n",
      "NPAs of BoB, Indian Bank grew multi-fold in 6 years: RTI data\n"
     ]
    }
   ],
   "source": [
    "#Printing the headlines\n",
    "print(\"Headlines for Today:\", today,\"Clocking:\",current_time, '\\n')\n",
    "\n",
    "url = 'https://inshorts.com/en/read'\n",
    "response = requests.get(url)\n",
    "func(response.text)             #Calling the function"
   ]
  },
  {
   "cell_type": "code",
   "execution_count": null,
   "metadata": {},
   "outputs": [],
   "source": [
    "#Additionally to search a particular topic\n",
    "\n",
    "a=input(\"\")                  #Getting input from the user\n",
    "z=0\n",
    "list=[]\n",
    "for i in r:                  #Searching the input in the list holding the headlines\n",
    "    if a in r[z]:\n",
    "        list.append(r[z])\n",
    "        break;\n",
    "    else:\n",
    "        z=z+1\n",
    "print(\"Match for the input: \",a)\n",
    "print(list)                  #Printing the match result"
   ]
  },
  {
   "cell_type": "code",
   "execution_count": null,
   "metadata": {},
   "outputs": [],
   "source": []
  }
 ],
 "metadata": {
  "kernelspec": {
   "display_name": "'CPU'",
   "language": "python",
   "name": "cpu"
  },
  "language_info": {
   "codemirror_mode": {
    "name": "ipython",
    "version": 3
   },
   "file_extension": ".py",
   "mimetype": "text/x-python",
   "name": "python",
   "nbconvert_exporter": "python",
   "pygments_lexer": "ipython3",
   "version": "3.8.1"
  }
 },
 "nbformat": 4,
 "nbformat_minor": 4
}
